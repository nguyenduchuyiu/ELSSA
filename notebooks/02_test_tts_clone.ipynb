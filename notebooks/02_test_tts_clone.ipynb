{
 "cells": [
  {
   "cell_type": "code",
   "execution_count": 1,
   "id": "fc409826",
   "metadata": {},
   "outputs": [
    {
     "name": "stderr",
     "output_type": "stream",
     "text": [
      "/home/huy/Project/ELSSA/elssa/lib/python3.10/site-packages/librosa/util/files.py:10: UserWarning: pkg_resources is deprecated as an API. See https://setuptools.pypa.io/en/latest/pkg_resources.html. The pkg_resources package is slated for removal as early as 2025-11-30. Refrain from using this package or pin to Setuptools<81.\n",
      "  from pkg_resources import resource_filename\n"
     ]
    },
    {
     "name": "stdout",
     "output_type": "stream",
     "text": [
      "Importing the dtw module. When using in academic works please cite:\n",
      "  T. Giorgino. Computing and Visualizing Dynamic Time Warping Alignments in R: The dtw Package.\n",
      "  J. Stat. Soft., doi:10.18637/jss.v031.i07.\n",
      "\n"
     ]
    }
   ],
   "source": [
    "import os\n",
    "import torch\n",
    "from openvoice import se_extractor\n",
    "from openvoice.api import BaseSpeakerTTS, ToneColorConverter\n",
    "import sounddevice as sd"
   ]
  },
  {
   "cell_type": "markdown",
   "id": "1fab0109",
   "metadata": {},
   "source": [
    "### Download clone voice"
   ]
  },
  {
   "cell_type": "code",
   "execution_count": null,
   "id": "4f4e2720",
   "metadata": {},
   "outputs": [
    {
     "data": {
      "text/plain": [
       "['[youtube] Extracting URL: https://www.youtube.com/shorts/LZIxb2VTdAg',\n",
       " '[youtube] LZIxb2VTdAg: Downloading webpage',\n",
       " '[youtube] LZIxb2VTdAg: Downloading tv client config',\n",
       " '[youtube] LZIxb2VTdAg: Downloading tv player API JSON',\n",
       " '[youtube] LZIxb2VTdAg: Downloading ios player API JSON',\n",
       " '[youtube] LZIxb2VTdAg: Downloading m3u8 information',\n",
       " '[info] LZIxb2VTdAg: Downloading 1 format(s): 251-2',\n",
       " '[download] Destination: ../openvoice/resources/ref_voice.webm',\n",
       " '',\n",
       " '[download]   0.2% of  415.03KiB at  Unknown B/s ETA Unknown',\n",
       " '[download]   0.7% of  415.03KiB at  Unknown B/s ETA Unknown',\n",
       " '[download]   1.7% of  415.03KiB at    5.19MiB/s ETA 00:00  ',\n",
       " '[download]   3.6% of  415.03KiB at    8.53MiB/s ETA 00:00',\n",
       " '[download]   7.5% of  415.03KiB at   14.17MiB/s ETA 00:00',\n",
       " '[download]  15.2% of  415.03KiB at   11.73MiB/s ETA 00:00',\n",
       " '[download]  30.6% of  415.03KiB at   12.56MiB/s ETA 00:00',\n",
       " '[download]  61.4% of  415.03KiB at   14.82MiB/s ETA 00:00',\n",
       " '[download] 100.0% of  415.03KiB at   15.37MiB/s ETA 00:00',\n",
       " '[download] 100% of  415.03KiB in 00:00:00 at 9.09MiB/s   ',\n",
       " '[ExtractAudio] Destination: ../openvoice/resources/ref_voice.mp3',\n",
       " 'Deleting original file ../openvoice/resources/ref_voice.webm (pass -k to keep)']"
      ]
     },
     "execution_count": 24,
     "metadata": {},
     "output_type": "execute_result"
    }
   ],
   "source": [
    "# !!yt-dlp -x --audio-format mp3 -o \"../openvoice/resources/ref_voice.mp3\" \"https://www.youtube.com/shorts/LZIxb2VTdAg\""
   ]
  },
  {
   "cell_type": "code",
   "execution_count": null,
   "id": "b72b9bf3",
   "metadata": {},
   "outputs": [
    {
     "data": {
      "text/plain": [
       "['[youtube] Extracting URL: https://www.youtube.com/shorts/ul5VV3uWUU4',\n",
       " '[youtube] ul5VV3uWUU4: Downloading webpage',\n",
       " '[youtube] ul5VV3uWUU4: Downloading tv client config',\n",
       " '[youtube] ul5VV3uWUU4: Downloading player 8e20cb06-main',\n",
       " '[youtube] ul5VV3uWUU4: Downloading tv player API JSON',\n",
       " '[youtube] ul5VV3uWUU4: Downloading ios player API JSON',\n",
       " '[youtube] ul5VV3uWUU4: Downloading m3u8 information',\n",
       " '[info] ul5VV3uWUU4: Downloading 1 format(s): 251',\n",
       " '[download] Destination: ../openvoice/outputs/raw_speech.webm',\n",
       " '',\n",
       " '[download]   0.2% of  531.36KiB at  Unknown B/s ETA Unknown',\n",
       " '[download]   0.6% of  531.36KiB at    1.76MiB/s ETA 00:00  ',\n",
       " '[download]   1.3% of  531.36KiB at    3.35MiB/s ETA 00:00',\n",
       " '[download]   2.8% of  531.36KiB at    6.16MiB/s ETA 00:00',\n",
       " '[download]   5.8% of  531.36KiB at   11.15MiB/s ETA 00:00',\n",
       " '[download]  11.9% of  531.36KiB at   11.48MiB/s ETA 00:00',\n",
       " '[download]  23.9% of  531.36KiB at   14.71MiB/s ETA 00:00',\n",
       " '[download]  48.0% of  531.36KiB at   13.64MiB/s ETA 00:00',\n",
       " '[download]  96.2% of  531.36KiB at   15.51MiB/s ETA 00:00',\n",
       " '[download] 100.0% of  531.36KiB at   15.52MiB/s ETA 00:00',\n",
       " '[download] 100% of  531.36KiB in 00:00:00 at 5.28MiB/s   ',\n",
       " '[ExtractAudio] Destination: ../openvoice/outputs/raw_speech.wav',\n",
       " 'Deleting original file ../openvoice/outputs/raw_speech.webm (pass -k to keep)']"
      ]
     },
     "execution_count": 65,
     "metadata": {},
     "output_type": "execute_result"
    }
   ],
   "source": [
    "# !!yt-dlp -x --audio-format wav -o \"../openvoice/outputs/raw_speech.wav\" \"https://www.youtube.com/shorts/ul5VV3uWUU4\""
   ]
  },
  {
   "cell_type": "code",
   "execution_count": 2,
   "id": "a958c7cb",
   "metadata": {},
   "outputs": [
    {
     "name": "stderr",
     "output_type": "stream",
     "text": [
      "/home/huy/Project/ELSSA/elssa/lib/python3.10/site-packages/torch/nn/utils/weight_norm.py:28: UserWarning: torch.nn.utils.weight_norm is deprecated in favor of torch.nn.utils.parametrizations.weight_norm.\n",
      "  warnings.warn(\"torch.nn.utils.weight_norm is deprecated in favor of torch.nn.utils.parametrizations.weight_norm.\")\n"
     ]
    }
   ],
   "source": [
    "ckpt_base = '../models/openvoice/checkpoints/base_speakers/EN'\n",
    "ckpt_converter = '../models/openvoice/checkpoints/converter'\n",
    "reference_speaker = '../assets/audio/ref_voice.mp3'\n",
    "output_dir = '../models/openvoice/outputs'\n",
    "target_dir = '../models/openvoice/processed'\n",
    "device=\"cuda:0\" if torch.cuda.is_available() else \"cpu\"\n",
    "\n",
    "base_speaker_tts = BaseSpeakerTTS(f'{ckpt_base}/config.json', device=device)\n",
    "base_speaker_tts.load_ckpt(f'{ckpt_base}/checkpoint.pth')\n",
    "\n",
    "tone_color_converter = ToneColorConverter(f'{ckpt_converter}/config.json', device=device)\n",
    "tone_color_converter.load_ckpt(f'{ckpt_converter}/checkpoint.pth')\n",
    "\n",
    "\n",
    "source_se = torch.load(f'{ckpt_base}/en_default_se.pth').to(device)"
   ]
  },
  {
   "cell_type": "code",
   "execution_count": 3,
   "id": "0f7d0803",
   "metadata": {},
   "outputs": [],
   "source": [
    "import json\n",
    "with open(f'{ckpt_base}/config.json', 'r') as f:\n",
    "    config = json.load(f)"
   ]
  },
  {
   "cell_type": "code",
   "execution_count": 8,
   "id": "5112f4a3",
   "metadata": {},
   "outputs": [
    {
     "name": "stdout",
     "output_type": "stream",
     "text": [
      "haɪ.\n",
      " length:4\n",
      " length:4\n"
     ]
    }
   ],
   "source": [
    "# Run the base speaker tts\n",
    "text = input(\"Enter the text to synthesize: \")\n",
    "src_path = f'{output_dir}/raw_speech.wav'\n",
    "raw_audio = base_speaker_tts.tts(text, speaker='default', language='English', speed=1.0)"
   ]
  },
  {
   "cell_type": "code",
   "execution_count": 9,
   "id": "fbbec0cd",
   "metadata": {},
   "outputs": [],
   "source": [
    "target_se, audio_name = se_extractor.get_se(reference_speaker, tone_color_converter, target_dir=target_dir, vad=True)"
   ]
  },
  {
   "cell_type": "code",
   "execution_count": 10,
   "id": "9984128f",
   "metadata": {},
   "outputs": [],
   "source": [
    "\n",
    "# Run the tone color converter\n",
    "encode_message = \"@MyShell\"\n",
    "speech = tone_color_converter.convert(\n",
    "    raw_audio=raw_audio,\n",
    "    src_se=source_se, \n",
    "    tgt_se=target_se, \n",
    "    message=encode_message)\n",
    "\n",
    "\n",
    "# Giả sử `audio_np` là mảng âm thanh numpy 1D hoặc 2D (mono/stereo)\n",
    "sd.play(speech, samplerate=config['data']['sampling_rate'])  # Phát âm thanh\n",
    "sd.wait()  # Đợi cho phát xong rồi mới chạy tiếp"
   ]
  }
 ],
 "metadata": {
  "kernelspec": {
   "display_name": "elssa",
   "language": "python",
   "name": "python3"
  },
  "language_info": {
   "codemirror_mode": {
    "name": "ipython",
    "version": 3
   },
   "file_extension": ".py",
   "mimetype": "text/x-python",
   "name": "python",
   "nbconvert_exporter": "python",
   "pygments_lexer": "ipython3",
   "version": "3.10.12"
  }
 },
 "nbformat": 4,
 "nbformat_minor": 5
}
